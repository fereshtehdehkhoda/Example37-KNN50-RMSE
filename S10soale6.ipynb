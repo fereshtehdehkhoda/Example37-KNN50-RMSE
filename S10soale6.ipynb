{
  "cells": [
    {
      "cell_type": "markdown",
      "metadata": {
        "id": "view-in-github",
        "colab_type": "text"
      },
      "source": [
        "<a href=\"https://colab.research.google.com/github/fereshtehdehkhoda/Example37-KNN50-RMSE/blob/main/S10soale6.ipynb\" target=\"_parent\"><img src=\"https://colab.research.google.com/assets/colab-badge.svg\" alt=\"Open In Colab\"/></a>"
      ]
    },
    {
      "cell_type": "code",
      "execution_count": null,
      "id": "92240fc7-a4fd-4e6e-a01b-ef8d028cada7",
      "metadata": {
        "id": "92240fc7-a4fd-4e6e-a01b-ef8d028cada7"
      },
      "outputs": [],
      "source": [
        "#روی داده‌های آموزش hw10_train.csv یک مدل نزدیکترین همسایه (kNN) بسازید. تعداد همسایه‌ها را 50 قرار دهید. شاخص RMSE روی داده‌های آموزش چقدر است؟"
      ]
    },
    {
      "cell_type": "code",
      "execution_count": null,
      "id": "737725e0-c6a9-479e-ab71-bf17a56f9efa",
      "metadata": {
        "id": "737725e0-c6a9-479e-ab71-bf17a56f9efa"
      },
      "outputs": [],
      "source": [
        "import pandas as pd\n",
        "import numpy as np\n",
        "from sklearn.neighbors import KNeighborsRegressor"
      ]
    },
    {
      "cell_type": "code",
      "execution_count": null,
      "id": "c7596aaa-0096-4fa6-8468-f4ae943a3791",
      "metadata": {
        "id": "c7596aaa-0096-4fa6-8468-f4ae943a3791"
      },
      "outputs": [],
      "source": [
        "data=pd.read_csv(\"hw10_train.csv\")"
      ]
    },
    {
      "cell_type": "code",
      "execution_count": null,
      "id": "2b560042-0a4d-4db0-b76d-ffcb8fa75180",
      "metadata": {
        "id": "2b560042-0a4d-4db0-b76d-ffcb8fa75180",
        "outputId": "869b1f99-9690-4956-e9b8-11e4685f7897"
      },
      "outputs": [
        {
          "name": "stdout",
          "output_type": "stream",
          "text": [
            "<class 'pandas.core.frame.DataFrame'>\n",
            "RangeIndex: 6500 entries, 0 to 6499\n",
            "Data columns (total 5 columns):\n",
            " #   Column  Non-Null Count  Dtype  \n",
            "---  ------  --------------  -----  \n",
            " 0   AT      6500 non-null   float64\n",
            " 1   V       6500 non-null   float64\n",
            " 2   AP      6500 non-null   float64\n",
            " 3   RH      6500 non-null   float64\n",
            " 4   PE      6500 non-null   float64\n",
            "dtypes: float64(5)\n",
            "memory usage: 254.0 KB\n"
          ]
        }
      ],
      "source": [
        "data.info()"
      ]
    },
    {
      "cell_type": "code",
      "execution_count": null,
      "id": "5aa23e4d-1238-4fd7-8e8d-122b6625f3b3",
      "metadata": {
        "id": "5aa23e4d-1238-4fd7-8e8d-122b6625f3b3"
      },
      "outputs": [],
      "source": [
        "features=[\"AT\",\"V\",\"AP\",\"RH\"]\n",
        "X_train=data[features]"
      ]
    },
    {
      "cell_type": "code",
      "execution_count": null,
      "id": "6b84ffe5-fdfa-421d-bc25-3994cc44f9b3",
      "metadata": {
        "id": "6b84ffe5-fdfa-421d-bc25-3994cc44f9b3"
      },
      "outputs": [],
      "source": [
        "y_train=data[\"PE\"]"
      ]
    },
    {
      "cell_type": "code",
      "execution_count": null,
      "id": "b1f67478-5226-420f-80ee-7b250bd20cdb",
      "metadata": {
        "id": "b1f67478-5226-420f-80ee-7b250bd20cdb",
        "outputId": "60dd5b1a-4933-407c-e2f0-538bb386b111"
      },
      "outputs": [
        {
          "data": {
            "text/html": [
              "<div>\n",
              "<style scoped>\n",
              "    .dataframe tbody tr th:only-of-type {\n",
              "        vertical-align: middle;\n",
              "    }\n",
              "\n",
              "    .dataframe tbody tr th {\n",
              "        vertical-align: top;\n",
              "    }\n",
              "\n",
              "    .dataframe thead th {\n",
              "        text-align: right;\n",
              "    }\n",
              "</style>\n",
              "<table border=\"1\" class=\"dataframe\">\n",
              "  <thead>\n",
              "    <tr style=\"text-align: right;\">\n",
              "      <th></th>\n",
              "      <th>AT</th>\n",
              "      <th>V</th>\n",
              "      <th>AP</th>\n",
              "      <th>RH</th>\n",
              "      <th>PE</th>\n",
              "      <th>pred_50</th>\n",
              "      <th>pred_k50</th>\n",
              "    </tr>\n",
              "  </thead>\n",
              "  <tbody>\n",
              "    <tr>\n",
              "      <th>0</th>\n",
              "      <td>14.96</td>\n",
              "      <td>41.76</td>\n",
              "      <td>1024.07</td>\n",
              "      <td>73.17</td>\n",
              "      <td>463.26</td>\n",
              "      <td>466.6676</td>\n",
              "      <td>466.6676</td>\n",
              "    </tr>\n",
              "    <tr>\n",
              "      <th>1</th>\n",
              "      <td>25.18</td>\n",
              "      <td>62.96</td>\n",
              "      <td>1020.04</td>\n",
              "      <td>59.08</td>\n",
              "      <td>444.37</td>\n",
              "      <td>444.9128</td>\n",
              "      <td>444.9128</td>\n",
              "    </tr>\n",
              "    <tr>\n",
              "      <th>2</th>\n",
              "      <td>5.11</td>\n",
              "      <td>39.40</td>\n",
              "      <td>1012.16</td>\n",
              "      <td>92.14</td>\n",
              "      <td>488.56</td>\n",
              "      <td>485.1110</td>\n",
              "      <td>485.1110</td>\n",
              "    </tr>\n",
              "    <tr>\n",
              "      <th>3</th>\n",
              "      <td>20.86</td>\n",
              "      <td>57.32</td>\n",
              "      <td>1010.24</td>\n",
              "      <td>76.64</td>\n",
              "      <td>446.48</td>\n",
              "      <td>445.5946</td>\n",
              "      <td>445.5946</td>\n",
              "    </tr>\n",
              "    <tr>\n",
              "      <th>4</th>\n",
              "      <td>10.82</td>\n",
              "      <td>37.50</td>\n",
              "      <td>1009.23</td>\n",
              "      <td>96.62</td>\n",
              "      <td>473.90</td>\n",
              "      <td>475.1648</td>\n",
              "      <td>475.1648</td>\n",
              "    </tr>\n",
              "    <tr>\n",
              "      <th>...</th>\n",
              "      <td>...</td>\n",
              "      <td>...</td>\n",
              "      <td>...</td>\n",
              "      <td>...</td>\n",
              "      <td>...</td>\n",
              "      <td>...</td>\n",
              "      <td>...</td>\n",
              "    </tr>\n",
              "    <tr>\n",
              "      <th>6495</th>\n",
              "      <td>24.01</td>\n",
              "      <td>60.84</td>\n",
              "      <td>1018.83</td>\n",
              "      <td>63.82</td>\n",
              "      <td>436.32</td>\n",
              "      <td>446.3576</td>\n",
              "      <td>446.3576</td>\n",
              "    </tr>\n",
              "    <tr>\n",
              "      <th>6496</th>\n",
              "      <td>26.67</td>\n",
              "      <td>70.94</td>\n",
              "      <td>1007.70</td>\n",
              "      <td>56.56</td>\n",
              "      <td>439.13</td>\n",
              "      <td>435.5974</td>\n",
              "      <td>435.5974</td>\n",
              "    </tr>\n",
              "    <tr>\n",
              "      <th>6497</th>\n",
              "      <td>11.57</td>\n",
              "      <td>44.63</td>\n",
              "      <td>1020.70</td>\n",
              "      <td>91.11</td>\n",
              "      <td>469.64</td>\n",
              "      <td>472.2008</td>\n",
              "      <td>472.2008</td>\n",
              "    </tr>\n",
              "    <tr>\n",
              "      <th>6498</th>\n",
              "      <td>27.33</td>\n",
              "      <td>66.17</td>\n",
              "      <td>1011.06</td>\n",
              "      <td>64.55</td>\n",
              "      <td>443.89</td>\n",
              "      <td>439.3774</td>\n",
              "      <td>439.3774</td>\n",
              "    </tr>\n",
              "    <tr>\n",
              "      <th>6499</th>\n",
              "      <td>14.51</td>\n",
              "      <td>44.84</td>\n",
              "      <td>1023.23</td>\n",
              "      <td>82.33</td>\n",
              "      <td>465.09</td>\n",
              "      <td>466.3224</td>\n",
              "      <td>466.3224</td>\n",
              "    </tr>\n",
              "  </tbody>\n",
              "</table>\n",
              "<p>6500 rows × 7 columns</p>\n",
              "</div>"
            ],
            "text/plain": [
              "         AT      V       AP     RH      PE   pred_50  pred_k50\n",
              "0     14.96  41.76  1024.07  73.17  463.26  466.6676  466.6676\n",
              "1     25.18  62.96  1020.04  59.08  444.37  444.9128  444.9128\n",
              "2      5.11  39.40  1012.16  92.14  488.56  485.1110  485.1110\n",
              "3     20.86  57.32  1010.24  76.64  446.48  445.5946  445.5946\n",
              "4     10.82  37.50  1009.23  96.62  473.90  475.1648  475.1648\n",
              "...     ...    ...      ...    ...     ...       ...       ...\n",
              "6495  24.01  60.84  1018.83  63.82  436.32  446.3576  446.3576\n",
              "6496  26.67  70.94  1007.70  56.56  439.13  435.5974  435.5974\n",
              "6497  11.57  44.63  1020.70  91.11  469.64  472.2008  472.2008\n",
              "6498  27.33  66.17  1011.06  64.55  443.89  439.3774  439.3774\n",
              "6499  14.51  44.84  1023.23  82.33  465.09  466.3224  466.3224\n",
              "\n",
              "[6500 rows x 7 columns]"
            ]
          },
          "execution_count": 15,
          "metadata": {},
          "output_type": "execute_result"
        }
      ],
      "source": [
        "knn_50=KNeighborsRegressor(n_neighbors=50)\n",
        "knn_50.fit(X_train,y_train)\n",
        "data['pred_k50']=knn_50.predict(X_train)\n",
        "data"
      ]
    },
    {
      "cell_type": "code",
      "execution_count": null,
      "id": "84903686-75f0-443b-9543-8d7fd990b792",
      "metadata": {
        "id": "84903686-75f0-443b-9543-8d7fd990b792",
        "outputId": "5d22668d-b170-48af-babd-cdfb4feb6d2d"
      },
      "outputs": [
        {
          "data": {
            "text/plain": [
              "4.361585912747441"
            ]
          },
          "execution_count": 19,
          "metadata": {},
          "output_type": "execute_result"
        }
      ],
      "source": [
        "RMSE=np.sqrt(np.mean((data['PE']-data['pred_k50'])**2))\n",
        "RMSE"
      ]
    },
    {
      "cell_type": "code",
      "execution_count": null,
      "id": "cd011fff-a195-4541-bb9e-82ef2c570107",
      "metadata": {
        "id": "cd011fff-a195-4541-bb9e-82ef2c570107"
      },
      "outputs": [],
      "source": []
    }
  ],
  "metadata": {
    "kernelspec": {
      "display_name": "Python 3 (ipykernel)",
      "language": "python",
      "name": "python3"
    },
    "language_info": {
      "codemirror_mode": {
        "name": "ipython",
        "version": 3
      },
      "file_extension": ".py",
      "mimetype": "text/x-python",
      "name": "python",
      "nbconvert_exporter": "python",
      "pygments_lexer": "ipython3",
      "version": "3.12.4"
    },
    "colab": {
      "provenance": [],
      "include_colab_link": true
    }
  },
  "nbformat": 4,
  "nbformat_minor": 5
}